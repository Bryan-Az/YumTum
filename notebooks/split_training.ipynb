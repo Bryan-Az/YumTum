{
 "cells": [
  {
   "cell_type": "code",
   "execution_count": 6,
   "metadata": {},
   "outputs": [],
   "source": [
    "import pandas as pd\n",
    "import numpy as np"
   ]
  },
  {
   "cell_type": "code",
   "execution_count": 7,
   "metadata": {},
   "outputs": [
    {
     "name": "stderr",
     "output_type": "stream",
     "text": [
      "/var/folders/b8/b_prs9t152qc96jlgz5zhwt00000gn/T/ipykernel_60991/3200482521.py:2: DtypeWarning: Columns (1) have mixed types. Specify dtype option on import or set low_memory=False.\n",
      "  df = pd.read_csv('../data/raw/train_full.csv')\n",
      "/var/folders/b8/b_prs9t152qc96jlgz5zhwt00000gn/T/ipykernel_60991/3200482521.py:13: DtypeWarning: Columns (0,1,4,5,7,14,19,20,23,28,30,31,32,33,34,35,36,37,38,39,40,41,42,43,44,45,46,47,48,49,50,51,52,53,54,55,56,57,58,60,61,62,65,66) have mixed types. Specify dtype option on import or set low_memory=False.\n",
      "  df = pd.read_csv('../data/raw/test_full.csv')\n"
     ]
    }
   ],
   "source": [
    "# import data/raw/train_full.csv and split it into 8 equally sized chunks\n",
    "df = pd.read_csv('../data/raw/train_full.csv')\n",
    "df_split = np.array_split(df, 8)\n",
    "df_split[0].to_csv('../data/raw/train_0.csv', index=False)\n",
    "df_split[1].to_csv('../data/raw/train_1.csv', index=False)\n",
    "df_split[2].to_csv('../data/raw/train_2.csv', index=False)\n",
    "df_split[3].to_csv('../data/raw/train_3.csv', index=False)\n",
    "df_split[4].to_csv('../data/raw/train_4.csv', index=False)\n",
    "df_split[5].to_csv('../data/raw/train_5.csv', index=False)\n",
    "df_split[6].to_csv('../data/raw/train_6.csv', index=False)\n",
    "df_split[7].to_csv('../data/raw/train_7.csv', index=False)\n",
    "# import data/raw/test_full.csv and split it into 2 equally sized chunks\n",
    "df = pd.read_csv('../data/raw/test_full.csv')\n",
    "df_split = np.array_split(df, 2)\n",
    "df_split[0].to_csv('../data/raw/test_0.csv', index=False)\n",
    "df_split[1].to_csv('../data/raw/test_1.csv', index=False)"
   ]
  },
  {
   "cell_type": "code",
   "execution_count": null,
   "metadata": {},
   "outputs": [],
   "source": []
  }
 ],
 "metadata": {
  "kernelspec": {
   "display_name": "audio-analysis",
   "language": "python",
   "name": "python3"
  },
  "language_info": {
   "codemirror_mode": {
    "name": "ipython",
    "version": 3
   },
   "file_extension": ".py",
   "mimetype": "text/x-python",
   "name": "python",
   "nbconvert_exporter": "python",
   "pygments_lexer": "ipython3",
   "version": "3.8.15"
  }
 },
 "nbformat": 4,
 "nbformat_minor": 2
}
